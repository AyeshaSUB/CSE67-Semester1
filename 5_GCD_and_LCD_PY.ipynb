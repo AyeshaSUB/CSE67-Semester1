{
  "nbformat": 4,
  "nbformat_minor": 0,
  "metadata": {
    "colab": {
      "provenance": [],
      "authorship_tag": "ABX9TyO7b69AB6sLyJZFjifSUqD9",
      "include_colab_link": true
    },
    "kernelspec": {
      "name": "python3",
      "display_name": "Python 3"
    },
    "language_info": {
      "name": "python"
    }
  },
  "cells": [
    {
      "cell_type": "markdown",
      "metadata": {
        "id": "view-in-github",
        "colab_type": "text"
      },
      "source": [
        "<a href=\"https://colab.research.google.com/github/AyeshaSUB/CSE67-Semester1/blob/main/5_GCD_and_LCD_PY.ipynb\" target=\"_parent\"><img src=\"https://colab.research.google.com/assets/colab-badge.svg\" alt=\"Open In Colab\"/></a>"
      ]
    },
    {
      "cell_type": "code",
      "execution_count": 6,
      "metadata": {
        "colab": {
          "base_uri": "https://localhost:8080/"
        },
        "id": "XJfOHFZxFC_W",
        "outputId": "dee72a18-59ec-43f7-e739-32cd057863c6"
      },
      "outputs": [
        {
          "output_type": "stream",
          "name": "stdout",
          "text": [
            "12 18\n",
            "THE GCD of 12 and 18 is: 6\n",
            "THE LCD of 12 and 18 is: 36\n"
          ]
        }
      ],
      "source": [
        "x, y = map(int, input().split())\n",
        "def gcd(a, b):\n",
        "  while b:\n",
        "      a, b = b, a % b\n",
        "  return a\n",
        "def lcd(a, b):\n",
        "  return a * b // gcd(a, b)\n",
        "print(f\"THE GCD of {x} and {y} is: {gcd(x, y)}\")\n",
        "print(f\"THE LCD of {x} and {y} is: {lcd(x, y)}\")\n"
      ]
    }
  ]
}