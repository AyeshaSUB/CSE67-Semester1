{
  "nbformat": 4,
  "nbformat_minor": 0,
  "metadata": {
    "colab": {
      "provenance": [],
      "authorship_tag": "ABX9TyOY6Vgsnrb/caC8XUQ9rxK+",
      "include_colab_link": true
    },
    "kernelspec": {
      "name": "python3",
      "display_name": "Python 3"
    },
    "language_info": {
      "name": "python"
    }
  },
  "cells": [
    {
      "cell_type": "markdown",
      "metadata": {
        "id": "view-in-github",
        "colab_type": "text"
      },
      "source": [
        "<a href=\"https://colab.research.google.com/github/AyeshaSUB/CSE67-Semester1/blob/main/5_GCD_and_LCD_PY.ipynb\" target=\"_parent\"><img src=\"https://colab.research.google.com/assets/colab-badge.svg\" alt=\"Open In Colab\"/></a>"
      ]
    },
    {
      "cell_type": "code",
      "execution_count": null,
      "metadata": {
        "id": "XJfOHFZxFC_W"
      },
      "outputs": [],
      "source": [
        "x, y = map(int, input().split())\n",
        "def gcd(a, b):\n",
        "  while b:\n",
        "      a, b = b, a % b\n",
        "  return a\n",
        "def icm(a, b):\n",
        "  return a * b // gcd(a, b)\n",
        "print(f\"THE GCD of {x} and {y} is: {gcd(x, y)}\")\n",
        "print(f\"THE LCD OF {X} and {y} is: {lcd(x, y)}\")\n"
      ]
    }
  ]
}