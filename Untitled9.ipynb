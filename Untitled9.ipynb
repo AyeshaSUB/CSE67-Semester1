{
  "nbformat": 4,
  "nbformat_minor": 0,
  "metadata": {
    "colab": {
      "provenance": [],
      "authorship_tag": "ABX9TyMLJ92Fy7Y1D228sQZbuJ0E",
      "include_colab_link": true
    },
    "kernelspec": {
      "name": "python3",
      "display_name": "Python 3"
    },
    "language_info": {
      "name": "python"
    }
  },
  "cells": [
    {
      "cell_type": "markdown",
      "metadata": {
        "id": "view-in-github",
        "colab_type": "text"
      },
      "source": [
        "<a href=\"https://colab.research.google.com/github/AyeshaSUB/CSE67-Semester1/blob/main/Untitled9.ipynb\" target=\"_parent\"><img src=\"https://colab.research.google.com/assets/colab-badge.svg\" alt=\"Open In Colab\"/></a>"
      ]
    },
    {
      "cell_type": "code",
      "execution_count": 1,
      "metadata": {
        "colab": {
          "base_uri": "https://localhost:8080/"
        },
        "id": "E7ueUPVKjLfk",
        "outputId": "fefa01a6-5d6f-403d-c8d1-1869cc0a2bb7"
      },
      "outputs": [
        {
          "output_type": "stream",
          "name": "stdout",
          "text": [
            "enter the first number:2\n",
            "enter the secund number:4\n",
            "enter the third number:5\n",
            "summation = 11\n"
          ]
        }
      ],
      "source": [
        "a = int(input(\"enter the first number:\"))\n",
        "b = int(input(\"enter the secund number:\"))\n",
        "c = int(input(\"enter the third number:\"))\n",
        "summation = a + b + c\n",
        "print(\"summation =\", summation)"
      ]
    }
  ]
}